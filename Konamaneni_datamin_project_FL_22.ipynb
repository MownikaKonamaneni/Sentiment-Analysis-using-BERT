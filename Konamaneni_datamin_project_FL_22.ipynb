{
 "cells": [
  {
   "cell_type": "markdown",
   "id": "b9c75da3-5e5f-4505-9fb6-09156e29bba1",
   "metadata": {},
   "source": [
    "# Project - Data Mining and Text Mining\n",
    "\n",
    "### Team members :\n",
    "**Mownika Konamaneni** \n",
    "\n",
    "**Susmita Gopavaram**\n",
    "\n",
    "**Bindu Lasya**"
   ]
  },
  {
   "cell_type": "markdown",
   "id": "ff8810ca-92d3-4033-98f4-7333ed6c56c4",
   "metadata": {},
   "source": [
    "# Topic - Sentiment analysis on Twitter data"
   ]
  },
  {
   "cell_type": "code",
   "execution_count": 220,
   "id": "c0b19a59-73c8-42b8-93d0-3f99f48b1cc1",
   "metadata": {},
   "outputs": [
    {
     "name": "stdout",
     "output_type": "stream",
     "text": [
      "Requirement already satisfied: tensorflow-text in c:\\users\\mowni\\anaconda3\\lib\\site-packages (2.10.0)\n",
      "Requirement already satisfied: tensorflow<2.11,>=2.10.0 in c:\\users\\mowni\\anaconda3\\lib\\site-packages (from tensorflow-text) (2.10.0)\n",
      "Requirement already satisfied: tensorflow-hub>=0.8.0 in c:\\users\\mowni\\anaconda3\\lib\\site-packages (from tensorflow-text) (0.12.0)\n",
      "Requirement already satisfied: packaging in c:\\users\\mowni\\anaconda3\\lib\\site-packages (from tensorflow<2.11,>=2.10.0->tensorflow-text) (21.3)\n",
      "Requirement already satisfied: numpy>=1.20 in c:\\users\\mowni\\anaconda3\\lib\\site-packages (from tensorflow<2.11,>=2.10.0->tensorflow-text) (1.21.5)\n",
      "Requirement already satisfied: typing-extensions>=3.6.6 in c:\\users\\mowni\\anaconda3\\lib\\site-packages (from tensorflow<2.11,>=2.10.0->tensorflow-text) (4.1.1)\n",
      "Requirement already satisfied: opt-einsum>=2.3.2 in c:\\users\\mowni\\anaconda3\\lib\\site-packages (from tensorflow<2.11,>=2.10.0->tensorflow-text) (3.3.0)\n",
      "Requirement already satisfied: flatbuffers>=2.0 in c:\\users\\mowni\\anaconda3\\lib\\site-packages (from tensorflow<2.11,>=2.10.0->tensorflow-text) (22.10.26)\n",
      "Requirement already satisfied: libclang>=13.0.0 in c:\\users\\mowni\\anaconda3\\lib\\site-packages (from tensorflow<2.11,>=2.10.0->tensorflow-text) (14.0.6)\n",
      "Requirement already satisfied: wrapt>=1.11.0 in c:\\users\\mowni\\anaconda3\\lib\\site-packages (from tensorflow<2.11,>=2.10.0->tensorflow-text) (1.12.1)\n",
      "Requirement already satisfied: astunparse>=1.6.0 in c:\\users\\mowni\\anaconda3\\lib\\site-packages (from tensorflow<2.11,>=2.10.0->tensorflow-text) (1.6.3)\n",
      "Requirement already satisfied: tensorflow-io-gcs-filesystem>=0.23.1 in c:\\users\\mowni\\anaconda3\\lib\\site-packages (from tensorflow<2.11,>=2.10.0->tensorflow-text) (0.27.0)\n",
      "Requirement already satisfied: grpcio<2.0,>=1.24.3 in c:\\users\\mowni\\anaconda3\\lib\\site-packages (from tensorflow<2.11,>=2.10.0->tensorflow-text) (1.42.0)\n",
      "Requirement already satisfied: gast<=0.4.0,>=0.2.1 in c:\\users\\mowni\\anaconda3\\lib\\site-packages (from tensorflow<2.11,>=2.10.0->tensorflow-text) (0.4.0)\n",
      "Requirement already satisfied: protobuf<3.20,>=3.9.2 in c:\\users\\mowni\\anaconda3\\lib\\site-packages (from tensorflow<2.11,>=2.10.0->tensorflow-text) (3.19.1)\n",
      "Requirement already satisfied: tensorboard<2.11,>=2.10 in c:\\users\\mowni\\anaconda3\\lib\\site-packages (from tensorflow<2.11,>=2.10.0->tensorflow-text) (2.10.1)\n",
      "Requirement already satisfied: setuptools in c:\\users\\mowni\\anaconda3\\lib\\site-packages (from tensorflow<2.11,>=2.10.0->tensorflow-text) (61.2.0)\n",
      "Requirement already satisfied: h5py>=2.9.0 in c:\\users\\mowni\\anaconda3\\lib\\site-packages (from tensorflow<2.11,>=2.10.0->tensorflow-text) (3.6.0)\n",
      "Requirement already satisfied: keras-preprocessing>=1.1.1 in c:\\users\\mowni\\anaconda3\\lib\\site-packages (from tensorflow<2.11,>=2.10.0->tensorflow-text) (1.1.2)\n",
      "Requirement already satisfied: keras<2.11,>=2.10.0 in c:\\users\\mowni\\anaconda3\\lib\\site-packages (from tensorflow<2.11,>=2.10.0->tensorflow-text) (2.10.0)\n",
      "Requirement already satisfied: google-pasta>=0.1.1 in c:\\users\\mowni\\anaconda3\\lib\\site-packages (from tensorflow<2.11,>=2.10.0->tensorflow-text) (0.2.0)\n",
      "Requirement already satisfied: six>=1.12.0 in c:\\users\\mowni\\anaconda3\\lib\\site-packages (from tensorflow<2.11,>=2.10.0->tensorflow-text) (1.16.0)\n",
      "Requirement already satisfied: tensorflow-estimator<2.11,>=2.10.0 in c:\\users\\mowni\\anaconda3\\lib\\site-packages (from tensorflow<2.11,>=2.10.0->tensorflow-text) (2.10.0)\n",
      "Requirement already satisfied: absl-py>=1.0.0 in c:\\users\\mowni\\anaconda3\\lib\\site-packages (from tensorflow<2.11,>=2.10.0->tensorflow-text) (1.3.0)\n",
      "Requirement already satisfied: termcolor>=1.1.0 in c:\\users\\mowni\\anaconda3\\lib\\site-packages (from tensorflow<2.11,>=2.10.0->tensorflow-text) (2.1.0)\n",
      "Requirement already satisfied: wheel<1.0,>=0.23.0 in c:\\users\\mowni\\anaconda3\\lib\\site-packages (from astunparse>=1.6.0->tensorflow<2.11,>=2.10.0->tensorflow-text) (0.37.1)\n",
      "Requirement already satisfied: markdown>=2.6.8 in c:\\users\\mowni\\anaconda3\\lib\\site-packages (from tensorboard<2.11,>=2.10->tensorflow<2.11,>=2.10.0->tensorflow-text) (3.3.4)\n",
      "Requirement already satisfied: tensorboard-data-server<0.7.0,>=0.6.0 in c:\\users\\mowni\\anaconda3\\lib\\site-packages (from tensorboard<2.11,>=2.10->tensorflow<2.11,>=2.10.0->tensorflow-text) (0.6.1)\n",
      "Requirement already satisfied: werkzeug>=1.0.1 in c:\\users\\mowni\\anaconda3\\lib\\site-packages (from tensorboard<2.11,>=2.10->tensorflow<2.11,>=2.10.0->tensorflow-text) (2.0.3)\n",
      "Requirement already satisfied: google-auth<3,>=1.6.3 in c:\\users\\mowni\\anaconda3\\lib\\site-packages (from tensorboard<2.11,>=2.10->tensorflow<2.11,>=2.10.0->tensorflow-text) (1.33.0)\n",
      "Requirement already satisfied: google-auth-oauthlib<0.5,>=0.4.1 in c:\\users\\mowni\\anaconda3\\lib\\site-packages (from tensorboard<2.11,>=2.10->tensorflow<2.11,>=2.10.0->tensorflow-text) (0.4.6)\n",
      "Requirement already satisfied: tensorboard-plugin-wit>=1.6.0 in c:\\users\\mowni\\anaconda3\\lib\\site-packages (from tensorboard<2.11,>=2.10->tensorflow<2.11,>=2.10.0->tensorflow-text) (1.8.1)\n",
      "Requirement already satisfied: requests<3,>=2.21.0 in c:\\users\\mowni\\anaconda3\\lib\\site-packages (from tensorboard<2.11,>=2.10->tensorflow<2.11,>=2.10.0->tensorflow-text) (2.27.1)\n",
      "Requirement already satisfied: rsa<5,>=3.1.4 in c:\\users\\mowni\\anaconda3\\lib\\site-packages (from google-auth<3,>=1.6.3->tensorboard<2.11,>=2.10->tensorflow<2.11,>=2.10.0->tensorflow-text) (4.7.2)\n",
      "Requirement already satisfied: cachetools<5.0,>=2.0.0 in c:\\users\\mowni\\anaconda3\\lib\\site-packages (from google-auth<3,>=1.6.3->tensorboard<2.11,>=2.10->tensorflow<2.11,>=2.10.0->tensorflow-text) (4.2.2)\n",
      "Requirement already satisfied: pyasn1-modules>=0.2.1 in c:\\users\\mowni\\anaconda3\\lib\\site-packages (from google-auth<3,>=1.6.3->tensorboard<2.11,>=2.10->tensorflow<2.11,>=2.10.0->tensorflow-text) (0.2.8)\n",
      "Requirement already satisfied: requests-oauthlib>=0.7.0 in c:\\users\\mowni\\anaconda3\\lib\\site-packages (from google-auth-oauthlib<0.5,>=0.4.1->tensorboard<2.11,>=2.10->tensorflow<2.11,>=2.10.0->tensorflow-text) (1.3.1)\n",
      "Requirement already satisfied: pyasn1<0.5.0,>=0.4.6 in c:\\users\\mowni\\anaconda3\\lib\\site-packages (from pyasn1-modules>=0.2.1->google-auth<3,>=1.6.3->tensorboard<2.11,>=2.10->tensorflow<2.11,>=2.10.0->tensorflow-text) (0.4.8)\n",
      "Requirement already satisfied: idna<4,>=2.5 in c:\\users\\mowni\\anaconda3\\lib\\site-packages (from requests<3,>=2.21.0->tensorboard<2.11,>=2.10->tensorflow<2.11,>=2.10.0->tensorflow-text) (3.3)\n",
      "Requirement already satisfied: urllib3<1.27,>=1.21.1 in c:\\users\\mowni\\anaconda3\\lib\\site-packages (from requests<3,>=2.21.0->tensorboard<2.11,>=2.10->tensorflow<2.11,>=2.10.0->tensorflow-text) (1.26.9)\n",
      "Requirement already satisfied: charset-normalizer~=2.0.0 in c:\\users\\mowni\\anaconda3\\lib\\site-packages (from requests<3,>=2.21.0->tensorboard<2.11,>=2.10->tensorflow<2.11,>=2.10.0->tensorflow-text) (2.0.4)\n",
      "Requirement already satisfied: certifi>=2017.4.17 in c:\\users\\mowni\\anaconda3\\lib\\site-packages (from requests<3,>=2.21.0->tensorboard<2.11,>=2.10->tensorflow<2.11,>=2.10.0->tensorflow-text) (2021.10.8)\n",
      "Requirement already satisfied: oauthlib>=3.0.0 in c:\\users\\mowni\\anaconda3\\lib\\site-packages (from requests-oauthlib>=0.7.0->google-auth-oauthlib<0.5,>=0.4.1->tensorboard<2.11,>=2.10->tensorflow<2.11,>=2.10.0->tensorflow-text) (3.2.2)\n",
      "Requirement already satisfied: pyparsing!=3.0.5,>=2.0.2 in c:\\users\\mowni\\anaconda3\\lib\\site-packages (from packaging->tensorflow<2.11,>=2.10.0->tensorflow-text) (3.0.4)\n"
     ]
    }
   ],
   "source": [
    "!pip install tensorflow-text"
   ]
  },
  {
   "cell_type": "code",
   "execution_count": 27,
   "id": "98a8065b-0eb7-4f71-a563-2a593d268e61",
   "metadata": {},
   "outputs": [
    {
     "name": "stderr",
     "output_type": "stream",
     "text": [
      "[nltk_data] Downloading package stopwords to\n",
      "[nltk_data]     C:\\Users\\mowni\\AppData\\Roaming\\nltk_data...\n",
      "[nltk_data]   Package stopwords is already up-to-date!\n"
     ]
    }
   ],
   "source": [
    "# Load libraries\n",
    "import tensorflow as tf\n",
    "import tensorflow_hub as hub\n",
    "import pandas as pd\n",
    "import nltk\n",
    "nltk.download('stopwords')\n",
    "from nltk.corpus import stopwords\n",
    "from nltk.stem import PorterStemmer\n",
    "import re\n",
    "from bs4 import BeautifulSoup\n",
    "import tensorflow_text as text\n",
    "import numpy as np\n",
    "from sklearn.model_selection import train_test_split\n",
    "import seaborn as sns\n",
    "import matplotlib.pyplot as plt\n",
    "from sklearn.metrics import plot_confusion_matrix \n",
    "from sklearn.metrics import confusion_matrix\n",
    "from sklearn.metrics import accuracy_score\n",
    "from sklearn.metrics import precision_recall_fscore_support\n",
    "from sklearn.linear_model import LogisticRegression"
   ]
  },
  {
   "cell_type": "code",
   "execution_count": 3,
   "id": "6e0a014c-2537-4dc8-8bc3-da9fbf1143bb",
   "metadata": {},
   "outputs": [
    {
     "data": {
      "text/html": [
       "<div>\n",
       "<style scoped>\n",
       "    .dataframe tbody tr th:only-of-type {\n",
       "        vertical-align: middle;\n",
       "    }\n",
       "\n",
       "    .dataframe tbody tr th {\n",
       "        vertical-align: top;\n",
       "    }\n",
       "\n",
       "    .dataframe thead th {\n",
       "        text-align: right;\n",
       "    }\n",
       "</style>\n",
       "<table border=\"1\" class=\"dataframe\">\n",
       "  <thead>\n",
       "    <tr style=\"text-align: right;\">\n",
       "      <th></th>\n",
       "      <th>0</th>\n",
       "      <th>1</th>\n",
       "      <th>2</th>\n",
       "      <th>3</th>\n",
       "      <th>4</th>\n",
       "      <th>5</th>\n",
       "    </tr>\n",
       "  </thead>\n",
       "  <tbody>\n",
       "    <tr>\n",
       "      <th>0</th>\n",
       "      <td>0</td>\n",
       "      <td>1467810369</td>\n",
       "      <td>Mon Apr 06 22:19:45 PDT 2009</td>\n",
       "      <td>NO_QUERY</td>\n",
       "      <td>_TheSpecialOne_</td>\n",
       "      <td>@switchfoot http://twitpic.com/2y1zl - Awww, t...</td>\n",
       "    </tr>\n",
       "    <tr>\n",
       "      <th>1</th>\n",
       "      <td>0</td>\n",
       "      <td>1467810672</td>\n",
       "      <td>Mon Apr 06 22:19:49 PDT 2009</td>\n",
       "      <td>NO_QUERY</td>\n",
       "      <td>scotthamilton</td>\n",
       "      <td>is upset that he can't update his Facebook by ...</td>\n",
       "    </tr>\n",
       "    <tr>\n",
       "      <th>2</th>\n",
       "      <td>0</td>\n",
       "      <td>1467810917</td>\n",
       "      <td>Mon Apr 06 22:19:53 PDT 2009</td>\n",
       "      <td>NO_QUERY</td>\n",
       "      <td>mattycus</td>\n",
       "      <td>@Kenichan I dived many times for the ball. Man...</td>\n",
       "    </tr>\n",
       "    <tr>\n",
       "      <th>3</th>\n",
       "      <td>0</td>\n",
       "      <td>1467811184</td>\n",
       "      <td>Mon Apr 06 22:19:57 PDT 2009</td>\n",
       "      <td>NO_QUERY</td>\n",
       "      <td>ElleCTF</td>\n",
       "      <td>my whole body feels itchy and like its on fire</td>\n",
       "    </tr>\n",
       "    <tr>\n",
       "      <th>4</th>\n",
       "      <td>0</td>\n",
       "      <td>1467811193</td>\n",
       "      <td>Mon Apr 06 22:19:57 PDT 2009</td>\n",
       "      <td>NO_QUERY</td>\n",
       "      <td>Karoli</td>\n",
       "      <td>@nationwideclass no, it's not behaving at all....</td>\n",
       "    </tr>\n",
       "  </tbody>\n",
       "</table>\n",
       "</div>"
      ],
      "text/plain": [
       "   0           1                             2         3                4  \\\n",
       "0  0  1467810369  Mon Apr 06 22:19:45 PDT 2009  NO_QUERY  _TheSpecialOne_   \n",
       "1  0  1467810672  Mon Apr 06 22:19:49 PDT 2009  NO_QUERY    scotthamilton   \n",
       "2  0  1467810917  Mon Apr 06 22:19:53 PDT 2009  NO_QUERY         mattycus   \n",
       "3  0  1467811184  Mon Apr 06 22:19:57 PDT 2009  NO_QUERY          ElleCTF   \n",
       "4  0  1467811193  Mon Apr 06 22:19:57 PDT 2009  NO_QUERY           Karoli   \n",
       "\n",
       "                                                   5  \n",
       "0  @switchfoot http://twitpic.com/2y1zl - Awww, t...  \n",
       "1  is upset that he can't update his Facebook by ...  \n",
       "2  @Kenichan I dived many times for the ball. Man...  \n",
       "3    my whole body feels itchy and like its on fire   \n",
       "4  @nationwideclass no, it's not behaving at all....  "
      ]
     },
     "execution_count": 3,
     "metadata": {},
     "output_type": "execute_result"
    }
   ],
   "source": [
    "# Import dataset\n",
    "df = pd.read_csv(\"D:/Masters/sem1/dataAndTextMining/twitter_data.csv\", encoding = 'latin', header = None)\n",
    "df.head()"
   ]
  },
  {
   "cell_type": "code",
   "execution_count": 4,
   "id": "6d60f97a-d57c-4a21-9580-4c10bbddd548",
   "metadata": {},
   "outputs": [],
   "source": [
    "#Prepare data by removing unnecessary columns\n",
    "df = df[[0, 5]]\n",
    "df.columns = ['sentiments', 'tweet']  #labels for columns\n",
    "df = df.replace([4], [1])  #replacing sentiment 4 with 1\n",
    "df = df[['sentiments', 'tweet']].dropna()     #drop where NaNs present"
   ]
  },
  {
   "cell_type": "code",
   "execution_count": 5,
   "id": "f1bd6ea2-e0a2-4a2e-8b2f-042d20d05df7",
   "metadata": {},
   "outputs": [
    {
     "data": {
      "text/html": [
       "<div>\n",
       "<style scoped>\n",
       "    .dataframe tbody tr th:only-of-type {\n",
       "        vertical-align: middle;\n",
       "    }\n",
       "\n",
       "    .dataframe tbody tr th {\n",
       "        vertical-align: top;\n",
       "    }\n",
       "\n",
       "    .dataframe thead th {\n",
       "        text-align: right;\n",
       "    }\n",
       "</style>\n",
       "<table border=\"1\" class=\"dataframe\">\n",
       "  <thead>\n",
       "    <tr style=\"text-align: right;\">\n",
       "      <th></th>\n",
       "      <th>sentiments</th>\n",
       "      <th>tweet</th>\n",
       "    </tr>\n",
       "  </thead>\n",
       "  <tbody>\n",
       "    <tr>\n",
       "      <th>0</th>\n",
       "      <td>0</td>\n",
       "      <td>@switchfoot http://twitpic.com/2y1zl - Awww, t...</td>\n",
       "    </tr>\n",
       "    <tr>\n",
       "      <th>1</th>\n",
       "      <td>0</td>\n",
       "      <td>is upset that he can't update his Facebook by ...</td>\n",
       "    </tr>\n",
       "    <tr>\n",
       "      <th>2</th>\n",
       "      <td>0</td>\n",
       "      <td>@Kenichan I dived many times for the ball. Man...</td>\n",
       "    </tr>\n",
       "    <tr>\n",
       "      <th>3</th>\n",
       "      <td>0</td>\n",
       "      <td>my whole body feels itchy and like its on fire</td>\n",
       "    </tr>\n",
       "    <tr>\n",
       "      <th>4</th>\n",
       "      <td>0</td>\n",
       "      <td>@nationwideclass no, it's not behaving at all....</td>\n",
       "    </tr>\n",
       "  </tbody>\n",
       "</table>\n",
       "</div>"
      ],
      "text/plain": [
       "   sentiments                                              tweet\n",
       "0           0  @switchfoot http://twitpic.com/2y1zl - Awww, t...\n",
       "1           0  is upset that he can't update his Facebook by ...\n",
       "2           0  @Kenichan I dived many times for the ball. Man...\n",
       "3           0    my whole body feels itchy and like its on fire \n",
       "4           0  @nationwideclass no, it's not behaving at all...."
      ]
     },
     "execution_count": 5,
     "metadata": {},
     "output_type": "execute_result"
    }
   ],
   "source": [
    "df.head()"
   ]
  },
  {
   "cell_type": "code",
   "execution_count": 6,
   "id": "a78c0dbb-0e24-490b-9c5d-8f3afd38e847",
   "metadata": {},
   "outputs": [
    {
     "data": {
      "text/plain": [
       "(1600000, 2)"
      ]
     },
     "execution_count": 6,
     "metadata": {},
     "output_type": "execute_result"
    }
   ],
   "source": [
    "# Analysing the data\n",
    "\n",
    "df.shape"
   ]
  },
  {
   "cell_type": "code",
   "execution_count": 7,
   "id": "3937a655-8250-4297-867c-60e98e6a59ba",
   "metadata": {},
   "outputs": [
    {
     "data": {
      "text/html": [
       "<div>\n",
       "<style scoped>\n",
       "    .dataframe tbody tr th:only-of-type {\n",
       "        vertical-align: middle;\n",
       "    }\n",
       "\n",
       "    .dataframe tbody tr th {\n",
       "        vertical-align: top;\n",
       "    }\n",
       "\n",
       "    .dataframe thead tr th {\n",
       "        text-align: left;\n",
       "    }\n",
       "\n",
       "    .dataframe thead tr:last-of-type th {\n",
       "        text-align: right;\n",
       "    }\n",
       "</style>\n",
       "<table border=\"1\" class=\"dataframe\">\n",
       "  <thead>\n",
       "    <tr>\n",
       "      <th></th>\n",
       "      <th colspan=\"4\" halign=\"left\">tweet</th>\n",
       "    </tr>\n",
       "    <tr>\n",
       "      <th></th>\n",
       "      <th>count</th>\n",
       "      <th>unique</th>\n",
       "      <th>top</th>\n",
       "      <th>freq</th>\n",
       "    </tr>\n",
       "    <tr>\n",
       "      <th>sentiments</th>\n",
       "      <th></th>\n",
       "      <th></th>\n",
       "      <th></th>\n",
       "      <th></th>\n",
       "    </tr>\n",
       "  </thead>\n",
       "  <tbody>\n",
       "    <tr>\n",
       "      <th>0</th>\n",
       "      <td>800000</td>\n",
       "      <td>790185</td>\n",
       "      <td>isPlayer Has Died! Sorry</td>\n",
       "      <td>210</td>\n",
       "    </tr>\n",
       "    <tr>\n",
       "      <th>1</th>\n",
       "      <td>800000</td>\n",
       "      <td>793506</td>\n",
       "      <td>good morning</td>\n",
       "      <td>118</td>\n",
       "    </tr>\n",
       "  </tbody>\n",
       "</table>\n",
       "</div>"
      ],
      "text/plain": [
       "             tweet                                        \n",
       "             count  unique                        top freq\n",
       "sentiments                                                \n",
       "0           800000  790185  isPlayer Has Died! Sorry   210\n",
       "1           800000  793506              good morning   118"
      ]
     },
     "execution_count": 7,
     "metadata": {},
     "output_type": "execute_result"
    }
   ],
   "source": [
    "df.groupby('sentiments').describe()"
   ]
  },
  {
   "cell_type": "code",
   "execution_count": 8,
   "id": "c68b4651-39fc-4d45-acb0-d7b81bdc879b",
   "metadata": {},
   "outputs": [],
   "source": [
    "# # The dataset is very large, so I take .02%, Stratified sampling to balance\n",
    "sampleDf = df.groupby('sentiments', group_keys=False).apply(lambda x: x.sample(frac=0.002))\n",
    "ps = PorterStemmer()"
   ]
  },
  {
   "cell_type": "code",
   "execution_count": 9,
   "id": "1015c05a-4b57-4acc-bb52-00467e6d0efc",
   "metadata": {},
   "outputs": [
    {
     "data": {
      "text/plain": [
       "(3200, 2)"
      ]
     },
     "execution_count": 9,
     "metadata": {},
     "output_type": "execute_result"
    }
   ],
   "source": [
    "sampleDf.shape"
   ]
  },
  {
   "cell_type": "code",
   "execution_count": 10,
   "id": "28f09671-f3f3-44b1-ad1e-ca8326e1e8d0",
   "metadata": {},
   "outputs": [
    {
     "data": {
      "text/html": [
       "<div>\n",
       "<style scoped>\n",
       "    .dataframe tbody tr th:only-of-type {\n",
       "        vertical-align: middle;\n",
       "    }\n",
       "\n",
       "    .dataframe tbody tr th {\n",
       "        vertical-align: top;\n",
       "    }\n",
       "\n",
       "    .dataframe thead tr th {\n",
       "        text-align: left;\n",
       "    }\n",
       "\n",
       "    .dataframe thead tr:last-of-type th {\n",
       "        text-align: right;\n",
       "    }\n",
       "</style>\n",
       "<table border=\"1\" class=\"dataframe\">\n",
       "  <thead>\n",
       "    <tr>\n",
       "      <th></th>\n",
       "      <th colspan=\"4\" halign=\"left\">tweet</th>\n",
       "    </tr>\n",
       "    <tr>\n",
       "      <th></th>\n",
       "      <th>count</th>\n",
       "      <th>unique</th>\n",
       "      <th>top</th>\n",
       "      <th>freq</th>\n",
       "    </tr>\n",
       "    <tr>\n",
       "      <th>sentiments</th>\n",
       "      <th></th>\n",
       "      <th></th>\n",
       "      <th></th>\n",
       "      <th></th>\n",
       "    </tr>\n",
       "  </thead>\n",
       "  <tbody>\n",
       "    <tr>\n",
       "      <th>0</th>\n",
       "      <td>1600</td>\n",
       "      <td>1600</td>\n",
       "      <td>@moniquehunt i thought that album was a bit of...</td>\n",
       "      <td>1</td>\n",
       "    </tr>\n",
       "    <tr>\n",
       "      <th>1</th>\n",
       "      <td>1600</td>\n",
       "      <td>1600</td>\n",
       "      <td>Fan-&amp;quot;did you enhoy argentina?&amp;quot; Joe-&amp;...</td>\n",
       "      <td>1</td>\n",
       "    </tr>\n",
       "  </tbody>\n",
       "</table>\n",
       "</div>"
      ],
      "text/plain": [
       "           tweet                                                            \\\n",
       "           count unique                                                top   \n",
       "sentiments                                                                   \n",
       "0           1600   1600  @moniquehunt i thought that album was a bit of...   \n",
       "1           1600   1600  Fan-&quot;did you enhoy argentina?&quot; Joe-&...   \n",
       "\n",
       "                 \n",
       "           freq  \n",
       "sentiments       \n",
       "0             1  \n",
       "1             1  "
      ]
     },
     "execution_count": 10,
     "metadata": {},
     "output_type": "execute_result"
    }
   ],
   "source": [
    "sampleDf.groupby('sentiments').describe()"
   ]
  },
  {
   "cell_type": "markdown",
   "id": "13df5521-77bb-44a2-98aa-5957ec7e4c8b",
   "metadata": {
    "tags": []
   },
   "source": [
    "# Text Preprocessing"
   ]
  },
  {
   "cell_type": "code",
   "execution_count": 11,
   "id": "bebfcb69-a622-436d-8a82-fa643c7e248b",
   "metadata": {},
   "outputs": [],
   "source": [
    "def clean_tweet(tweet):\n",
    "    tweet = BeautifulSoup(tweet, \"lxml\").get_text()\n",
    "    tweet = re.sub(r\"@[A-Za-z0-9]+\", ' ', tweet)              # remove all letters and numbers after @ sign, in sentence (text)\n",
    "    tweet = re.sub(r\"https?://[A-Za-z0-9./]+\", ' ', tweet)    # remove urls, http and https, many times as need it\n",
    "    tweet = re.sub(r\"[^A-za-z.!?']\", ' ', tweet)              # remove chars that are not AZ,az, !?'\n",
    "    tweet = re.sub(r'[.,\"\\'-?:!;]', ' ', tweet)\n",
    "    tweet = re.sub(r\" +\", ' ', tweet)                         # replace white spaces (at least two or more) to one white space\n",
    "    return tweet"
   ]
  },
  {
   "cell_type": "code",
   "execution_count": 12,
   "id": "5d604c14-4e62-4c8a-80b0-ac8c7a851db4",
   "metadata": {},
   "outputs": [
    {
     "name": "stderr",
     "output_type": "stream",
     "text": [
      "C:\\Users\\mowni\\anaconda3\\lib\\site-packages\\bs4\\__init__.py:435: MarkupResemblesLocatorWarning: The input looks more like a filename than markup. You may want to open this file and pass the filehandle into Beautiful Soup.\n",
      "  warnings.warn(\n"
     ]
    }
   ],
   "source": [
    "sampleDf['tweet'] = sampleDf.tweet.apply(clean_tweet)"
   ]
  },
  {
   "cell_type": "code",
   "execution_count": 13,
   "id": "115f9b37-d1eb-4cf1-92f3-c7a1357b8b6a",
   "metadata": {},
   "outputs": [
    {
     "data": {
      "text/html": [
       "<div>\n",
       "<style scoped>\n",
       "    .dataframe tbody tr th:only-of-type {\n",
       "        vertical-align: middle;\n",
       "    }\n",
       "\n",
       "    .dataframe tbody tr th {\n",
       "        vertical-align: top;\n",
       "    }\n",
       "\n",
       "    .dataframe thead th {\n",
       "        text-align: right;\n",
       "    }\n",
       "</style>\n",
       "<table border=\"1\" class=\"dataframe\">\n",
       "  <thead>\n",
       "    <tr style=\"text-align: right;\">\n",
       "      <th></th>\n",
       "      <th>sentiments</th>\n",
       "      <th>tweet</th>\n",
       "    </tr>\n",
       "  </thead>\n",
       "  <tbody>\n",
       "    <tr>\n",
       "      <th>417519</th>\n",
       "      <td>0</td>\n",
       "      <td>i thought that album was a bit of a let down</td>\n",
       "    </tr>\n",
       "    <tr>\n",
       "      <th>541059</th>\n",
       "      <td>0</td>\n",
       "      <td>chemistry is kgjkghjfhgj</td>\n",
       "    </tr>\n",
       "    <tr>\n",
       "      <th>664584</th>\n",
       "      <td>0</td>\n",
       "      <td>my fuckin god nite has got have been funny hor...</td>\n",
       "    </tr>\n",
       "    <tr>\n",
       "      <th>493077</th>\n",
       "      <td>0</td>\n",
       "      <td>I REALLY LIKED SUSHI I am a very guilt ridden ...</td>\n",
       "    </tr>\n",
       "    <tr>\n",
       "      <th>73520</th>\n",
       "      <td>0</td>\n",
       "      <td>hmm it is awfully lonely here now</td>\n",
       "    </tr>\n",
       "  </tbody>\n",
       "</table>\n",
       "</div>"
      ],
      "text/plain": [
       "        sentiments                                              tweet\n",
       "417519           0      i thought that album was a bit of a let down \n",
       "541059           0                          chemistry is kgjkghjfhgj \n",
       "664584           0  my fuckin god nite has got have been funny hor...\n",
       "493077           0  I REALLY LIKED SUSHI I am a very guilt ridden ...\n",
       "73520            0                 hmm it is awfully lonely here now "
      ]
     },
     "execution_count": 13,
     "metadata": {},
     "output_type": "execute_result"
    }
   ],
   "source": [
    "sampleDf.head()"
   ]
  },
  {
   "cell_type": "code",
   "execution_count": 14,
   "id": "7eebfd30-5570-4d1d-994b-3932b46f19a9",
   "metadata": {},
   "outputs": [],
   "source": [
    "X_train, X_test, y_train, y_test = train_test_split(sampleDf['tweet'], sampleDf['sentiments'], test_size=0.30, stratify=sampleDf['sentiments'])"
   ]
  },
  {
   "cell_type": "code",
   "execution_count": 15,
   "id": "7921869a-883e-44cf-86da-97c6c8352a59",
   "metadata": {},
   "outputs": [
    {
     "data": {
      "text/plain": [
       "1    1120\n",
       "0    1120\n",
       "Name: sentiments, dtype: int64"
      ]
     },
     "execution_count": 15,
     "metadata": {},
     "output_type": "execute_result"
    }
   ],
   "source": [
    "y_train.value_counts()"
   ]
  },
  {
   "cell_type": "code",
   "execution_count": 16,
   "id": "d41e612a-4394-4fc9-b1cd-25b1d4ce5ecf",
   "metadata": {},
   "outputs": [
    {
     "data": {
      "text/plain": [
       "0    480\n",
       "1    480\n",
       "Name: sentiments, dtype: int64"
      ]
     },
     "execution_count": 16,
     "metadata": {},
     "output_type": "execute_result"
    }
   ],
   "source": [
    "y_test.value_counts()"
   ]
  },
  {
   "cell_type": "markdown",
   "id": "8686c41e-d2bf-42cd-b7f5-17d6e4157ec8",
   "metadata": {},
   "source": [
    "# Embedding layer using tensor flow BERT model"
   ]
  },
  {
   "cell_type": "code",
   "execution_count": 17,
   "id": "f58b8251-d08d-40e5-8816-787fae2d3ec0",
   "metadata": {},
   "outputs": [
    {
     "name": "stdout",
     "output_type": "stream",
     "text": [
      "WARNING:tensorflow:Please fix your imports. Module tensorflow.python.training.tracking.data_structures has been moved to tensorflow.python.trackable.data_structures. The old module will be deleted in version 2.11.\n"
     ]
    }
   ],
   "source": [
    "bert_preprocess = hub.KerasLayer('https://tfhub.dev/tensorflow/bert_en_uncased_preprocess/3')\n",
    "\n",
    "bert_encoder = hub.KerasLayer('https://tfhub.dev/tensorflow/bert_en_uncased_L-12_H-768_A-12/4')"
   ]
  },
  {
   "cell_type": "code",
   "execution_count": 18,
   "id": "8a71c3b0-0fab-426d-8ec6-a32d9e91bca4",
   "metadata": {},
   "outputs": [
    {
     "name": "stdout",
     "output_type": "stream",
     "text": [
      "Model: \"model\"\n",
      "__________________________________________________________________________________________________\n",
      " Layer (type)                   Output Shape         Param #     Connected to                     \n",
      "==================================================================================================\n",
      " text (InputLayer)              [(None,)]            0           []                               \n",
      "                                                                                                  \n",
      " keras_layer (KerasLayer)       {'input_mask': (Non  0           ['text[0][0]']                   \n",
      "                                e, 128),                                                          \n",
      "                                 'input_type_ids':                                                \n",
      "                                (None, 128),                                                      \n",
      "                                 'input_word_ids':                                                \n",
      "                                (None, 128)}                                                      \n",
      "                                                                                                  \n",
      " keras_layer_1 (KerasLayer)     {'default': (None,   109482241   ['keras_layer[0][0]',            \n",
      "                                768),                             'keras_layer[0][1]',            \n",
      "                                 'encoder_outputs':               'keras_layer[0][2]']            \n",
      "                                 [(None, 128, 768),                                               \n",
      "                                 (None, 128, 768),                                                \n",
      "                                 (None, 128, 768),                                                \n",
      "                                 (None, 128, 768),                                                \n",
      "                                 (None, 128, 768),                                                \n",
      "                                 (None, 128, 768),                                                \n",
      "                                 (None, 128, 768),                                                \n",
      "                                 (None, 128, 768),                                                \n",
      "                                 (None, 128, 768),                                                \n",
      "                                 (None, 128, 768),                                                \n",
      "                                 (None, 128, 768),                                                \n",
      "                                 (None, 128, 768)],                                               \n",
      "                                 'pooled_output': (                                               \n",
      "                                None, 768),                                                       \n",
      "                                 'sequence_output':                                               \n",
      "                                 (None, 128, 768)}                                                \n",
      "                                                                                                  \n",
      " dropout (Dropout)              (None, 768)          0           ['keras_layer_1[0][13]']         \n",
      "                                                                                                  \n",
      " output (Dense)                 (None, 1)            769         ['dropout[0][0]']                \n",
      "                                                                                                  \n",
      "==================================================================================================\n",
      "Total params: 109,483,010\n",
      "Trainable params: 769\n",
      "Non-trainable params: 109,482,241\n",
      "__________________________________________________________________________________________________\n"
     ]
    }
   ],
   "source": [
    "# Bert layers\n",
    "tweet_input = tf.keras.layers.Input(shape=(), dtype=tf.string, name='text')  #Input layer\n",
    "preprocessed_tweet = bert_preprocess(tweet_input)  #Keras layer\n",
    "outputs = bert_encoder(preprocessed_tweet)    #Keras layer 1\n",
    "# Neural network layers\n",
    "layer1 = tf.keras.layers.Dropout(0.1, name=\"dropout\")(outputs['pooled_output']) #Dropout layer\n",
    "layer2 = tf.keras.layers.Dense(1, activation='sigmoid', name=\"output\")(layer1)  #Output layer\n",
    "\n",
    "# Use inputs and outputs to construct a final model\n",
    "bert_model = tf.keras.Model(inputs=[tweet_input], outputs = [layer2])\n",
    "bert_model.summary()"
   ]
  },
  {
   "cell_type": "markdown",
   "id": "4bed2cb6-8add-4dff-951f-ce8b7cde9600",
   "metadata": {},
   "source": [
    "**Config the model with loss and metrics**"
   ]
  },
  {
   "cell_type": "code",
   "execution_count": 19,
   "id": "d03043e1-9647-4f6c-89d7-d6435caab31a",
   "metadata": {},
   "outputs": [],
   "source": [
    "\n",
    "bert_model.compile(optimizer='adam',\n",
    "                        loss='binary_crossentropy',\n",
    "                     metrics=['accuracy'])"
   ]
  },
  {
   "cell_type": "markdown",
   "id": "fb73afd7-beba-4253-bbc5-e1bec29f49fe",
   "metadata": {},
   "source": [
    "**Fit model on training dataset**"
   ]
  },
  {
   "cell_type": "code",
   "execution_count": 20,
   "id": "dc101bff-36d1-4b60-a1cc-6e0cd52292de",
   "metadata": {},
   "outputs": [
    {
     "name": "stdout",
     "output_type": "stream",
     "text": [
      "Epoch 1/3\n",
      "70/70 [==============================] - 414s 6s/step - loss: 0.7013 - accuracy: 0.5268\n",
      "Epoch 2/3\n",
      "70/70 [==============================] - 404s 6s/step - loss: 0.6797 - accuracy: 0.5719\n",
      "Epoch 3/3\n",
      "70/70 [==============================] - 420s 6s/step - loss: 0.6640 - accuracy: 0.6000\n"
     ]
    },
    {
     "data": {
      "text/plain": [
       "<keras.callbacks.History at 0x1ed72d97370>"
      ]
     },
     "execution_count": 20,
     "metadata": {},
     "output_type": "execute_result"
    }
   ],
   "source": [
    "bert_model.fit(X_train, y_train, epochs=3)"
   ]
  },
  {
   "cell_type": "markdown",
   "id": "4a8f9777-5e56-4cd4-8d5c-bcd39aabbdc0",
   "metadata": {},
   "source": [
    "**Evaluate the model**"
   ]
  },
  {
   "cell_type": "code",
   "execution_count": 21,
   "id": "d37282bd-0407-4ceb-af1d-3c8c572948c9",
   "metadata": {},
   "outputs": [
    {
     "name": "stdout",
     "output_type": "stream",
     "text": [
      "30/30 [==============================] - 189s 6s/step - loss: 0.6490 - accuracy: 0.6479\n"
     ]
    },
    {
     "data": {
      "text/plain": [
       "[0.6489757299423218, 0.6479166746139526]"
      ]
     },
     "execution_count": 21,
     "metadata": {},
     "output_type": "execute_result"
    }
   ],
   "source": [
    "bert_model.evaluate(X_test, y_test)"
   ]
  },
  {
   "cell_type": "markdown",
   "id": "f8fa0bd9-0779-41f6-811a-e77510ff525f",
   "metadata": {},
   "source": [
    "**Predict the model on test data**"
   ]
  },
  {
   "cell_type": "code",
   "execution_count": 22,
   "id": "b766998e-6fd2-4815-b866-0df6ba6d4d78",
   "metadata": {},
   "outputs": [
    {
     "name": "stdout",
     "output_type": "stream",
     "text": [
      "30/30 [==============================] - 194s 6s/step\n"
     ]
    }
   ],
   "source": [
    "y_pred = bert_model.predict(X_test)"
   ]
  },
  {
   "cell_type": "code",
   "execution_count": 23,
   "id": "d5ce20eb-f859-4ca8-afb0-fab22b789577",
   "metadata": {
    "tags": []
   },
   "outputs": [],
   "source": [
    "y_pred = np.where(y_pred[:,0]>0.5, 1, 0)"
   ]
  },
  {
   "cell_type": "markdown",
   "id": "7c0fa44f-4923-4f5b-a179-f7461c965757",
   "metadata": {},
   "source": [
    "**Measure the model performance using Confusion Matrix, accuracy, precision, recall, f1 score, support**"
   ]
  },
  {
   "cell_type": "code",
   "execution_count": 24,
   "id": "4664250e-90ca-4f64-8b30-37816ecc7ef9",
   "metadata": {},
   "outputs": [],
   "source": [
    "cm = confusion_matrix(y_test, y_pred )"
   ]
  },
  {
   "cell_type": "code",
   "execution_count": 28,
   "id": "2ef243ba-4b58-4694-a98d-87098181389d",
   "metadata": {},
   "outputs": [
    {
     "data": {
      "image/png": "[encoded data removed]",
      "text/plain": [
       "<Figure size 432x288 with 2 Axes>"
      ]
     },
     "metadata": {
      "needs_background": "light"
     },
     "output_type": "display_data"
    }
   ],
   "source": [
    "class_names = ['negative', 'positive']\n",
    "df_cm = pd.DataFrame(cm, index=class_names, columns=class_names)\n",
    "hmap = sns.heatmap(cm, annot=True, fmt=\"d\", cmap=\"Blues\")\n",
    "hmap.yaxis.set_ticklabels(hmap.yaxis.get_ticklabels(), rotation=0, ha='right')\n",
    "hmap.xaxis.set_ticklabels(hmap.xaxis.get_ticklabels(), rotation=30, ha='right')\n",
    "plt.ylabel('True sentiment')\n",
    "plt.xlabel('Predicted sentiment');"
   ]
  },
  {
   "cell_type": "code",
   "execution_count": 29,
   "id": "5a6003c4-6d44-4c41-b579-dda800705cb8",
   "metadata": {},
   "outputs": [
    {
     "data": {
      "text/plain": [
       "0.6479166666666667"
      ]
     },
     "execution_count": 29,
     "metadata": {},
     "output_type": "execute_result"
    }
   ],
   "source": [
    "accuracy_score(y_test, y_pred)"
   ]
  },
  {
   "cell_type": "code",
   "execution_count": 30,
   "id": "b44f5f07-6947-43ce-86c2-156aad6bad4f",
   "metadata": {},
   "outputs": [
    {
     "name": "stdout",
     "output_type": "stream",
     "text": [
      "precision: [0.74652778 0.60565476]\n",
      "recall: [0.44791667 0.84791667]\n",
      "fscore: [0.55989583 0.70659722]\n",
      "support: [480 480]\n"
     ]
    }
   ],
   "source": [
    "metric_names = ['precision','recall','fscore','support']\n",
    "metric_values = precision_recall_fscore_support(y_test, y_pred)\n",
    "for i in range(0, len(metric_values)):\n",
    "    print('{0}: {1}'.format(metric_names[i], metric_values[i]))\n",
    "    \n"
   ]
  },
  {
   "cell_type": "markdown",
   "id": "65399bb9-6e65-4312-8122-5e0a3ea31400",
   "metadata": {},
   "source": [
    "**Fitting Logistic regression on predicted and test data**"
   ]
  },
  {
   "cell_type": "code",
   "execution_count": 31,
   "id": "ae76229a-5729-4449-b00b-1de0a0c58184",
   "metadata": {},
   "outputs": [
    {
     "name": "stdout",
     "output_type": "stream",
     "text": [
      "                           Logit Regression Results                           \n",
      "==============================================================================\n",
      "Dep. Variable:                      y   No. Observations:                  960\n",
      "Model:                          Logit   Df Residuals:                      959\n",
      "Method:                           MLE   Df Model:                            0\n",
      "Date:                Sun, 04 Dec 2022   Pseudo R-squ.:                 0.08371\n",
      "Time:                        18:53:55   Log-Likelihood:                -537.34\n",
      "converged:                       True   LL-Null:                       -586.43\n",
      "Covariance Type:            nonrobust   LLR p-value:                       nan\n",
      "==============================================================================\n",
      "                 coef    std err          z      P>|z|      [0.025      0.975]\n",
      "------------------------------------------------------------------------------\n",
      "sentiments     1.7184      0.127     13.519      0.000       1.469       1.967\n",
      "==============================================================================\n"
     ]
    }
   ],
   "source": [
    "import statsmodels.api as stat\n",
    "logit = stat.Logit(y_pred, y_test)\n",
    "logit = logit.fit(disp=0)\n",
    "print(logit.summary())"
   ]
  },
  {
   "cell_type": "code",
   "execution_count": 32,
   "id": "744acd5d-048a-4acf-96ca-2f6f53618fb8",
   "metadata": {},
   "outputs": [
    {
     "data": {
      "text/html": [
       "<table class=\"simpletable\">\n",
       "<caption>Logit Marginal Effects</caption>\n",
       "<tr>\n",
       "  <th>Dep. Variable:</th>    <td>y</td>   \n",
       "</tr>\n",
       "<tr>\n",
       "  <th>Method:</th>         <td>dydx</td>  \n",
       "</tr>\n",
       "<tr>\n",
       "  <th>At:</th>            <td>overall</td>\n",
       "</tr>\n",
       "</table>\n",
       "<table class=\"simpletable\">\n",
       "<tr>\n",
       "       <th></th>         <th>dy/dx</th>    <th>std err</th>      <th>z</th>      <th>P>|z|</th>  <th>[0.025</th>    <th>0.975]</th>  \n",
       "</tr>\n",
       "<tr>\n",
       "  <th>sentiments</th> <td>    0.3256</td> <td>    0.014</td> <td>   22.793</td> <td> 0.000</td> <td>    0.298</td> <td>    0.354</td>\n",
       "</tr>\n",
       "</table>"
      ],
      "text/plain": [
       "<class 'statsmodels.iolib.summary.Summary'>\n",
       "\"\"\"\n",
       "        Logit Marginal Effects       \n",
       "=====================================\n",
       "Dep. Variable:                      y\n",
       "Method:                          dydx\n",
       "At:                           overall\n",
       "==============================================================================\n",
       "                dy/dx    std err          z      P>|z|      [0.025      0.975]\n",
       "------------------------------------------------------------------------------\n",
       "sentiments     0.3256      0.014     22.793      0.000       0.298       0.354\n",
       "==============================================================================\n",
       "\"\"\""
      ]
     },
     "execution_count": 32,
     "metadata": {},
     "output_type": "execute_result"
    }
   ],
   "source": [
    "logit.get_margeff().summary()"
   ]
  },
  {
   "cell_type": "code",
   "execution_count": null,
   "id": "260e7c26-33ef-4350-8a84-1a4a6f327f34",
   "metadata": {},
   "outputs": [],
   "source": []
  }
 ],
 "metadata": {
  "kernelspec": {
   "display_name": "Python 3 (ipykernel)",
   "language": "python",
   "name": "python3"
  },
  "language_info": {
   "codemirror_mode": {
    "name": "ipython",
    "version": 3
   },
   "file_extension": ".py",
   "mimetype": "text/x-python",
   "name": "python",
   "nbconvert_exporter": "python",
   "pygments_lexer": "ipython3",
   "version": "3.9.12"
  }
 },
 "nbformat": 4,
 "nbformat_minor": 5
}
